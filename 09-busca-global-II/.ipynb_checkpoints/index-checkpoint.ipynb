{
 "cells": [
  {
   "cell_type": "markdown",
   "metadata": {},
   "source": [
    "Pergunta escolhida:\n",
    "\n",
    "vale a pena esperar pela busca global? Até que ponto?"
   ]
  },
  {
   "cell_type": "markdown",
   "metadata": {},
   "source": [
    "Reformulação da pergunta:\n",
    "\n",
    "Como o tempo de execução da global se compara com a local. Qual é o custo disso (em relação ao valor obtido)"
   ]
  },
  {
   "cell_type": "code",
   "execution_count": 1,
   "metadata": {},
   "outputs": [],
   "source": [
    "import time\n",
    "import subprocess\n",
    "import pandas as pd\n",
    "import matplotlib.pyplot as plt"
   ]
  },
  {
   "cell_type": "code",
   "execution_count": 2,
   "metadata": {},
   "outputs": [],
   "source": [
    "execs = [\n",
    "    '../08-busca-global/tarefa',\n",
    "    '../07-busca-local/tarefa3',\n",
    "]\n",
    "\n",
    "ins = [\n",
    "    './in-aula.txt',\n",
    "    './in1.txt',\n",
    "    './in2.txt',\n",
    "    './in3.txt',\n",
    "    './in4.txt',\n",
    "    './in5.txt',\n",
    "]"
   ]
  },
  {
   "cell_type": "code",
   "execution_count": 3,
   "metadata": {},
   "outputs": [],
   "source": [
    "def executeAndParseResults(executavel, arquivo_in):\n",
    "    with open(f'{arquivo_in}') as f:\n",
    "        entrada = f.read()\n",
    "        start = time.perf_counter()\n",
    "        proc = subprocess.run([executavel], input=entrada, text=True, capture_output=True)\n",
    "        end = time.perf_counter()\n",
    "\n",
    "    entrada = entrada.split()\n",
    "    entrada_r = {'pesoMax': entrada[1], 'N': entrada[0]}\n",
    "    \n",
    "    if (proc.stderr):\n",
    "        raise Exception('Erro no programa')\n",
    "    std = proc.stdout\n",
    "    stdout = std.split()\n",
    "    resultados = {'peso': stdout[0], 'valor': stdout[1], 'itens': stdout[3:]}\n",
    "    \n",
    "    execTime = end-start\n",
    "    return (entrada_r, resultados, execTime)"
   ]
  },
  {
   "cell_type": "code",
   "execution_count": 4,
   "metadata": {},
   "outputs": [],
   "source": [
    "def geraDF(executavel, ins):\n",
    "    resultados = []\n",
    "    for i in ins:\n",
    "        resultados.append(executeAndParseResults(executavel, i))\n",
    "\n",
    "    df = pd.DataFrame()\n",
    "    df['tempo'] = [i[2] for i in resultados]\n",
    "    df['N'] = [int(i[0]['N']) for i in resultados]\n",
    "    df['valor'] = [int(i[1]['valor']) for i in resultados]\n",
    "    \n",
    "    # como existe uma pequena variação no tempo de execução para cada N,\n",
    "    # vamos usar o tempo médio dos Ns para melhor visualização gráfica\n",
    "    return df.groupby(['N']).mean()"
   ]
  },
  {
   "cell_type": "code",
   "execution_count": 5,
   "metadata": {},
   "outputs": [],
   "source": [
    "resGlobal = geraDF(execs[0], ins)\n",
    "resLocal = geraDF(execs[1], ins)"
   ]
  },
  {
   "cell_type": "code",
   "execution_count": 6,
   "metadata": {},
   "outputs": [
    {
     "data": {
      "text/html": [
       "<div>\n",
       "<style scoped>\n",
       "    .dataframe tbody tr th:only-of-type {\n",
       "        vertical-align: middle;\n",
       "    }\n",
       "\n",
       "    .dataframe tbody tr th {\n",
       "        vertical-align: top;\n",
       "    }\n",
       "\n",
       "    .dataframe thead th {\n",
       "        text-align: right;\n",
       "    }\n",
       "</style>\n",
       "<table border=\"1\" class=\"dataframe\">\n",
       "  <thead>\n",
       "    <tr style=\"text-align: right;\">\n",
       "      <th></th>\n",
       "      <th>tempo</th>\n",
       "      <th>valor</th>\n",
       "    </tr>\n",
       "    <tr>\n",
       "      <th>N</th>\n",
       "      <th></th>\n",
       "      <th></th>\n",
       "    </tr>\n",
       "  </thead>\n",
       "  <tbody>\n",
       "    <tr>\n",
       "      <th>5</th>\n",
       "      <td>0.027834</td>\n",
       "      <td>75.333333</td>\n",
       "    </tr>\n",
       "    <tr>\n",
       "      <th>10</th>\n",
       "      <td>0.020082</td>\n",
       "      <td>251.000000</td>\n",
       "    </tr>\n",
       "    <tr>\n",
       "      <th>100</th>\n",
       "      <td>3.509389</td>\n",
       "      <td>769.000000</td>\n",
       "    </tr>\n",
       "  </tbody>\n",
       "</table>\n",
       "</div>"
      ],
      "text/plain": [
       "        tempo       valor\n",
       "N                        \n",
       "5    0.027834   75.333333\n",
       "10   0.020082  251.000000\n",
       "100  3.509389  769.000000"
      ]
     },
     "execution_count": 6,
     "metadata": {},
     "output_type": "execute_result"
    }
   ],
   "source": [
    "resGlobal"
   ]
  },
  {
   "cell_type": "code",
   "execution_count": 7,
   "metadata": {},
   "outputs": [
    {
     "data": {
      "text/html": [
       "<div>\n",
       "<style scoped>\n",
       "    .dataframe tbody tr th:only-of-type {\n",
       "        vertical-align: middle;\n",
       "    }\n",
       "\n",
       "    .dataframe tbody tr th {\n",
       "        vertical-align: top;\n",
       "    }\n",
       "\n",
       "    .dataframe thead th {\n",
       "        text-align: right;\n",
       "    }\n",
       "</style>\n",
       "<table border=\"1\" class=\"dataframe\">\n",
       "  <thead>\n",
       "    <tr style=\"text-align: right;\">\n",
       "      <th></th>\n",
       "      <th>tempo</th>\n",
       "      <th>valor</th>\n",
       "    </tr>\n",
       "    <tr>\n",
       "      <th>N</th>\n",
       "      <th></th>\n",
       "      <th></th>\n",
       "    </tr>\n",
       "  </thead>\n",
       "  <tbody>\n",
       "    <tr>\n",
       "      <th>5</th>\n",
       "      <td>0.004536</td>\n",
       "      <td>75.333333</td>\n",
       "    </tr>\n",
       "    <tr>\n",
       "      <th>10</th>\n",
       "      <td>0.004302</td>\n",
       "      <td>248.000000</td>\n",
       "    </tr>\n",
       "    <tr>\n",
       "      <th>100</th>\n",
       "      <td>0.005220</td>\n",
       "      <td>258.000000</td>\n",
       "    </tr>\n",
       "  </tbody>\n",
       "</table>\n",
       "</div>"
      ],
      "text/plain": [
       "        tempo       valor\n",
       "N                        \n",
       "5    0.004536   75.333333\n",
       "10   0.004302  248.000000\n",
       "100  0.005220  258.000000"
      ]
     },
     "execution_count": 7,
     "metadata": {},
     "output_type": "execute_result"
    }
   ],
   "source": [
    "resLocal"
   ]
  },
  {
   "cell_type": "code",
   "execution_count": 8,
   "metadata": {},
   "outputs": [
    {
     "data": {
      "image/png": "[encoded data removed]",
      "text/plain": [
       "<Figure size 432x288 with 1 Axes>"
      ]
     },
     "metadata": {
      "needs_background": "light"
     },
     "output_type": "display_data"
    }
   ],
   "source": [
    "plt.plot(resGlobal['valor'], 'o--', label='Global')\n",
    "plt.plot(resLocal['valor'], 'o--', label='Local')\n",
    "# plt.xscale('log')\n",
    "# plt.yscale('log')\n",
    "plt.legend()\n",
    "plt.show()"
   ]
  },
  {
   "cell_type": "markdown",
   "metadata": {},
   "source": [
    "para valor pequenos (nesse caso apenas testei com 10...), temos bons resultados que não justificam o uso da global."
   ]
  },
  {
   "cell_type": "code",
   "execution_count": 9,
   "metadata": {},
   "outputs": [
    {
     "data": {
      "image/png": "[encoded data removed]",
      "text/plain": [
       "<Figure size 432x288 with 1 Axes>"
      ]
     },
     "metadata": {
      "needs_background": "light"
     },
     "output_type": "display_data"
    }
   ],
   "source": [
    "plt.plot(resGlobal['tempo'], 'o--', label='Global')\n",
    "plt.plot(resLocal['tempo'], 'o--', label='Local')\n",
    "plt.xscale('log')\n",
    "plt.yscale('log')\n",
    "plt.legend()\n",
    "plt.show()"
   ]
  },
  {
   "cell_type": "code",
   "execution_count": null,
   "metadata": {},
   "outputs": [],
   "source": []
  }
 ],
 "metadata": {
  "kernelspec": {
   "display_name": "Python 3",
   "language": "python",
   "name": "python3"
  },
  "language_info": {
   "codemirror_mode": {
    "name": "ipython",
    "version": 3
   },
   "file_extension": ".py",
   "mimetype": "text/x-python",
   "name": "python",
   "nbconvert_exporter": "python",
   "pygments_lexer": "ipython3",
   "version": "3.8.5"
  }
 },
 "nbformat": 4,
 "nbformat_minor": 4
}
